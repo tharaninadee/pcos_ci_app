{
 "cells": [
  {
   "cell_type": "code",
   "execution_count": null,
   "id": "23e2041c-5582-4395-b83e-9338d29a086f",
   "metadata": {},
   "outputs": [],
   "source": [
    "import pandas as pd\n",
    "import numpy as np\n",
    "import matplotlib.pyplot as plt\n",
    "import seaborn as sns\n",
    "from sklearn.model_selection import train_test_split, GridSearchCV\n",
    "from sklearn.preprocessing import LabelEncoder, StandardScaler\n",
    "from sklearn.ensemble import RandomForestClassifier\n",
    "from sklearn.metrics import confusion_matrix, ConfusionMatrixDisplay\n",
    "from sklearn.metrics import accuracy_score, classification_report, roc_auc_score, roc_curve, f1_score, precision_recall_curve, auc\n",
    "import pickle"
   ]
  },
  {
   "cell_type": "code",
   "execution_count": null,
   "id": "e1a9435e-e2af-4c40-a206-77412b1b6a07",
   "metadata": {},
   "outputs": [],
   "source": [
    "# Load data\n",
    "train_df = pd.read_csv(r\"D:\\PCOS\\train.csv\")\n",
    "test_df = pd.read_csv(r\"D:\\PCOS\\test.csv\")"
   ]
  },
  {
   "cell_type": "code",
   "execution_count": null,
   "id": "e54d3c72-4d67-4d6a-bddc-2c412c7069b9",
   "metadata": {},
   "outputs": [],
   "source": [
    "# Data Overview\n",
    "print(\"Train Data Overview:\")\n",
    "print(train_df.info())\n",
    "print(\"Test Data Overview:\")\n",
    "print(test_df.info())\n"
   ]
  },
  {
   "cell_type": "code",
   "execution_count": null,
   "id": "2a0617ee-92f1-4f8e-83c9-91b8baab428a",
   "metadata": {},
   "outputs": [],
   "source": [
    "train_df.head()"
   ]
  },
  {
   "cell_type": "code",
   "execution_count": null,
   "id": "5e584343-7e9f-4902-8cc4-59cbcd503617",
   "metadata": {},
   "outputs": [],
   "source": [
    "train_df.describe(include='all')"
   ]
  },
  {
   "cell_type": "code",
   "execution_count": null,
   "id": "f1410485-db21-41fa-bab5-c842c4c66c60",
   "metadata": {},
   "outputs": [],
   "source": [
    "train_df.shape"
   ]
  },
  {
   "cell_type": "code",
   "execution_count": null,
   "id": "628282f9-0d91-4141-a7b9-be46f88c12b4",
   "metadata": {},
   "outputs": [],
   "source": [
    "print(\"\\nMissing Values:\")\n",
    "print(train_df.isnull().sum())"
   ]
  },
  {
   "cell_type": "code",
   "execution_count": null,
   "id": "ca73e94b-b731-42bc-bbaf-fd614beca827",
   "metadata": {},
   "outputs": [],
   "source": [
    "for col in train_df.columns:\n",
    "    if train_df[col].isnull().any()==True:\n",
    "        print(train_df[col].value_counts())"
   ]
  },
  {
   "cell_type": "code",
   "execution_count": null,
   "id": "33a72bf3-0690-4a59-b84b-ce82030c813b",
   "metadata": {},
   "outputs": [],
   "source": [
    "\n",
    "# Data Cleaning Function\n",
    "def clean_data(df):\n",
    "    # Standardize Column Names\n",
    "    df.columns = df.columns.str.replace(\" \", \"_\").str.lower()\n",
    "\n",
    "    # Convert Age Categories to Midpoint\n",
    "    def convert_age_to_midpoint(age):\n",
    "        age_mapping = {\n",
    "            \"20-25\": 22.5, \"15-20\": 17.5, \"Less than 20\": 17.5,\n",
    "            \"35-44\": 39.5, \"25-30\": 27.5, \"45 and above\": 47.5,\n",
    "            \"30-35\": 32.5, \"30-25\": 27.5, \"30-40\": 35, \"Less than 20-25\": 17.5\n",
    "        }\n",
    "        return age_mapping.get(age, np.nan)  # Convert to midpoint or NaN if unknown\n",
    "\n",
    "    df['age'] = df['age'].apply(convert_age_to_midpoint)\n",
    "\n",
    "    # Standardize Yes/No Responses\n",
    "    yes_no_cols = ['hirsutism', 'hormonal_imbalance', 'conception_difficulty', 'insulin_resistance']\n",
    "    replace_dict = {\n",
    "        \"No, Yes, not diagnosed by a doctor\": \"No\",\n",
    "        \"Yes Significantly\": \"Yes\",\n",
    "        \"Yes, diagnosed by a doctor\": \"Yes\"\n",
    "    }\n",
    "    df[yes_no_cols] = df[yes_no_cols].replace(replace_dict)\n",
    "    \n",
    "    exercise_cols = ['exercise_type']\n",
    "    exercise_replace_dict = {\n",
    "        \"No Exercise\": \"No exercise\",\n",
    "        \"Cardio (e.g., running, cycling, swimming)\": \"Cardio\",\n",
    "        \"Cardio (e.g.\": \"Cardio\",  \n",
    "        \"Flexibility and balance (e.g., yoga, pilates)\": \"Flexibility & Balance\",\n",
    "        \"Strength training (e.g., weightlifting, resistance exercises)\": \"Strength training\",\n",
    "        \"Cardio (e.g., running, cycling, swimming), Strength training (e.g., weightlifting, resistance exercises)\": \"Cardio & Strength training\",\n",
    "        \"Cardio (e.g., running, cycling, swimming), Flexibility and balance (e.g., yoga, pilates)\": \"Cardio & Flexibility & Balance\",\n",
    "        \"High-intensity interval training (HIIT)\": \"HIIT\",\n",
    "        \"Cardio (e.g., running, cycling, swimming), Strength training (e.g., weightlifting, resistance exercises), Flexibility and balance (e.g., yoga, pilates)\": \"Cardio & Strength training & Flexibility & Balance\",\n",
    "        \"Strength training (e.g., weightlifting, resistance exercises), Flexibility and balance (e.g., yoga, pilates)\": \"Strength training & Flexibility & Balance\",\n",
    "        \"Flexibility and balance (e.g., yoga, pilates), None\": \"No exercise\", \n",
    "        \"Cardio (e.g., running, cycling, swimming), None\": \"No exercise\",\n",
    "        \"Strength training\": \"Strength training\",  \n",
    "        \"Strength training (e.g.\": \"Strength training\",\n",
    "        \"Somewhat\": \"No exercise\",  \n",
    "        \"Flexibility and balance (e.g.\": \"Flexibility & Balance\"\n",
    "    }\n",
    "    df[exercise_cols] = df[exercise_cols].replace(exercise_replace_dict)  \n",
    "\n",
    "    exercise_benefit_cols = ['exercise_benefit']\n",
    "    exercise_benefit_mapping = {\n",
    "        \"Not at All\": \"No\",\n",
    "        \"Not Much\": \"No\",\n",
    "        \"Somewhat\": \"Yes\",\n",
    "        \"Yes Significantly\": \"Yes\"\n",
    "    }\n",
    "    df[exercise_benefit_cols] = df[exercise_benefit_cols].replace(exercise_benefit_mapping)\n",
    "\n",
    "    return df\n",
    "\n",
    "# Apply Cleaning to Train & Test Data\n",
    "train_df = clean_data(train_df)\n",
    "test_df = clean_data(test_df)\n"
   ]
  },
  {
   "cell_type": "code",
   "execution_count": null,
   "id": "bc117a0a-316a-4a08-a247-5b1eb205be54",
   "metadata": {},
   "outputs": [],
   "source": [
    "train_df = train_df[(train_df['weight_kg'] >= 30) & (train_df['weight_kg'] <= 120)]\n"
   ]
  },
  {
   "cell_type": "code",
   "execution_count": null,
   "id": "3fd354e6-b82b-4997-a066-33c64ae42b61",
   "metadata": {},
   "outputs": [],
   "source": [
    "sns.histplot(train_df['age'], kde=True, bins=30)\n",
    "plt.title('Histogram of Age')\n",
    "plt.xlabel('Age')\n",
    "plt.ylabel('Count')\n",
    "plt.show()\n"
   ]
  },
  {
   "cell_type": "code",
   "execution_count": null,
   "id": "d2c0bd3b-b27f-41fb-90ff-60389a1d5f2d",
   "metadata": {},
   "outputs": [],
   "source": [
    "plt.figure(figsize=(10, 5))\n",
    "sns.boxplot(x=train_df['pcos'], y=train_df['weight_kg'])\n",
    "plt.title(\"Weight vs. PCOS\")\n",
    "plt.show()\n"
   ]
  },
  {
   "cell_type": "code",
   "execution_count": null,
   "id": "1603efad-3ef5-484b-a32c-a0041f938e7e",
   "metadata": {},
   "outputs": [],
   "source": [
    "sns.histplot(train_df['weight_kg'], kde=True, bins=30)\n",
    "plt.title('Histogram of Weight')\n",
    "plt.xlabel('Weight')\n",
    "plt.ylabel('Count')\n",
    "plt.show()"
   ]
  },
  {
   "cell_type": "code",
   "execution_count": null,
   "id": "db1bce12-4177-4115-affd-392b971fe40e",
   "metadata": {},
   "outputs": [],
   "source": [
    "plt.figure(figsize=(8, 6))\n",
    "sns.countplot(x='pcos', data=train_df)\n",
    "plt.title(\"PCOS Class Distribution\")\n",
    "plt.show()"
   ]
  },
  {
   "cell_type": "code",
   "execution_count": null,
   "id": "8d3df328-f0dc-497f-92d9-6d01c6aee723",
   "metadata": {},
   "outputs": [],
   "source": [
    "# Fill numerical columns with median\n",
    "train_df.fillna(train_df.median(numeric_only=True), inplace=True)\n",
    "test_df.fillna(test_df.median(numeric_only=True), inplace=True)\n",
    "\n",
    "# Fill categorical columns with mode\n",
    "train_df.fillna(train_df.mode().iloc[0], inplace=True)\n",
    "test_df.fillna(test_df.mode().iloc[0], inplace=True)\n",
    "\n",
    "# Check if any missing values remain\n",
    "print(\"Missing values in train:\\n\", train_df.isnull().sum())\n",
    "print(\"Missing values in test:\\n\", test_df.isnull().sum())\n"
   ]
  },
  {
   "cell_type": "code",
   "execution_count": null,
   "id": "50e9861e-013c-4df6-8b62-38a9df1221df",
   "metadata": {},
   "outputs": [],
   "source": [
    "# categorical columns in train_df\n",
    "categorical_cols_train = train_df.select_dtypes(include=['object']).columns\n",
    "\n",
    "for col in categorical_cols_train:\n",
    "    if col in train_df.columns:\n",
    "        # Replace missing values in categorical columns with 'Unknown' in training data\n",
    "        train_df[col] = train_df[col].fillna('Unknown')\n",
    "\n",
    "label_encoders = {}\n",
    "for col in categorical_cols_train:\n",
    "    if col in train_df.columns:\n",
    "        le = LabelEncoder()\n",
    "        # Fit the encoder on the training data and transform the training data\n",
    "        train_df[col] = le.fit_transform(train_df[col].astype(str))\n",
    "        label_encoders[col] = le  # Save the encoder for later use\n",
    "\n",
    "numerical_cols = train_df.select_dtypes(include=['number']).columns\n",
    "\n",
    "# 3. Handle missing values in numerical columns (if any) and scale them\n",
    "for col in numerical_cols:\n",
    "    if col in train_df.columns:\n",
    "        # Fill missing numerical values with the median (or mean) of the column\n",
    "        train_df[col] = train_df[col].fillna(train_df[col].median())\n",
    "\n"
   ]
  },
  {
   "cell_type": "code",
   "execution_count": null,
   "id": "cb2bd167-c38d-4120-95aa-893c01dd4c15",
   "metadata": {},
   "outputs": [],
   "source": [
    "for col in categorical_cols_train:\n",
    "    plt.figure(figsize=(8, 4))\n",
    "    sns.countplot(x=train_df[col], hue=train_df[col], palette='viridis', legend=False)\n",
    "    plt.xticks(rotation=45)\n",
    "    plt.title(f'Distribution of {col}')\n",
    "    plt.show()  \n"
   ]
  },
  {
   "cell_type": "code",
   "execution_count": null,
   "id": "b8dd148f-b9ac-4936-bb12-5ff8c995a2aa",
   "metadata": {},
   "outputs": [],
   "source": [
    "X = train_df.drop(columns=['id', 'pcos'])  # Exclude 'id' and target column 'pcos'\n",
    "y = train_df['pcos']\n",
    "\n",
    "# 4. Scale the numerical columns using the StandardScaler (fit on training data)\n",
    "scaler = StandardScaler()\n",
    "train_df[numerical_cols] = scaler.fit_transform(train_df[numerical_cols])\n",
    "X[X.columns] = scaler.fit_transform(X)\n"
   ]
  },
  {
   "cell_type": "code",
   "execution_count": null,
   "id": "0eb9d4a9-e36c-46db-be35-b3827941cb35",
   "metadata": {},
   "outputs": [],
   "source": [
    "# Train/Test Split\n",
    "X_train, X_val, y_train, y_val = train_test_split(X, y, test_size=0.2, random_state=54545)"
   ]
  },
  {
   "cell_type": "code",
   "execution_count": null,
   "id": "7d9c5488-b0c8-487b-ba7d-d31f40d00f17",
   "metadata": {},
   "outputs": [],
   "source": [
    "# Train Models with Hyperparameter Tuning\n",
    "rf_params =  {\n",
    "    'n_estimators': [100, 200, 300],\n",
    "    'max_depth': [10, 20, 30, 40],\n",
    "    'min_samples_split': [2, 5, 10],\n",
    "    'min_samples_leaf': [1, 2, 4],\n",
    "    'class_weight': ['balanced']   \n",
    "}\n",
    "\n",
    "grid_search_rf = GridSearchCV(RandomForestClassifier(random_state=54545), param_grid=rf_params, cv=5, n_jobs=-1, scoring='roc_auc')\n",
    "grid_search_rf.fit(X_train, y_train)\n",
    "\n",
    "# Get the best model from grid search\n",
    "rf = grid_search_rf.best_estimator_\n",
    "\n",
    "# Evaluate Models\n",
    "\n",
    "def evaluate_model(model, X_val, y_val, model_name):\n",
    "    y_prob = model.predict_proba(X_val)[:, 1]\n",
    "    y_pred = model.predict(X_val)\n",
    "\n",
    "    accuracy = accuracy_score(y_val, y_pred)\n",
    "    f1 = f1_score(y_val, y_pred)\n",
    "    roc_auc = roc_auc_score(y_val, y_prob)\n",
    "    precision, recall, _ = precision_recall_curve(y_val, y_prob)\n",
    "    pr_auc = auc(recall, precision)\n",
    "\n",
    "    print(f\"\\n{model_name} Results:\")\n",
    "    print(f\"Accuracy: {accuracy:.4f}, ROC AUC: {roc_auc:.4f}, F1 Score: {f1:.4f}, PR AUC: {pr_auc:.4f}\")\n",
    "    print(classification_report(y_val, y_pred))\n",
    "    \n",
    "    cm = confusion_matrix(y_val, y_pred)\n",
    "    ConfusionMatrixDisplay(confusion_matrix=cm, display_labels=[\"No PCOS\", \"PCOS\"]).plot(cmap=\"Blues\")\n",
    "    plt.title(f\"Confusion Matrix - {model_name}\")\n",
    "    plt.show()\n",
    "\n",
    "    return roc_curve(y_val, y_prob), roc_auc  \n",
    "\n",
    "rf_fpr_tpr, rf_roc_auc = evaluate_model(rf, X_val, y_val, \"Random Forest\")"
   ]
  },
  {
   "cell_type": "code",
   "execution_count": null,
   "id": "e4ce75c3-21b7-4279-b451-fdceb20189c8",
   "metadata": {},
   "outputs": [],
   "source": [
    "# 3. ROC Curve Comparison\n",
    "plt.figure(figsize=(8, 6))\n",
    "plt.plot(rf_fpr_tpr[0], rf_fpr_tpr[1], label=f'Random Forest (AUC={rf_roc_auc:.2f})', color='blue')\n",
    "plt.plot([0, 1], [0, 1], '--', color='black')\n",
    "plt.xlabel('False Positive Rate')\n",
    "plt.ylabel('True Positive Rate')\n",
    "plt.title('ROC Curve Comparison')\n",
    "plt.legend()\n",
    "plt.show()\n",
    "\n"
   ]
  },
  {
   "cell_type": "code",
   "execution_count": null,
   "id": "29dfbfd2-02f1-4efe-a4e1-4cfd34fff787",
   "metadata": {},
   "outputs": [],
   "source": [
    "sorted_idx = np.argsort(rf.feature_importances_)[::-1]\n",
    "plt.barh(np.array(X.columns)[sorted_idx], rf.feature_importances_[sorted_idx], color='blue')\n",
    "plt.xlabel(\"Importance Score\")\n",
    "plt.ylabel(\"Feature Name\")\n",
    "plt.title(\"Feature Importances - Random Forest\")\n",
    "plt.gca().invert_yaxis()\n",
    "plt.show()"
   ]
  },
  {
   "cell_type": "code",
   "execution_count": null,
   "id": "c864e6b6-2e39-483c-bc1c-c122514890d2",
   "metadata": {},
   "outputs": [],
   "source": [
    "test_df.shape"
   ]
  },
  {
   "cell_type": "code",
   "execution_count": null,
   "id": "9ab72f2d-f50a-42b8-9cd2-036cafbbe238",
   "metadata": {},
   "outputs": [],
   "source": [
    "test_df.head"
   ]
  },
  {
   "cell_type": "code",
   "execution_count": null,
   "id": "5129f661-5337-4471-a491-0bf86252c375",
   "metadata": {},
   "outputs": [],
   "source": [
    "test_ids = test_df['id']\n",
    "\n",
    "# Ensure only categorical columns that exist in test_df are selected\n",
    "columns_to_encode = [col for col in categorical_cols_train if col in test_df.columns]\n",
    "\n",
    "# Fill missing values in categorical test data\n",
    "test_df[columns_to_encode] = test_df[columns_to_encode].fillna('Unknown')\n",
    "\n",
    "for col in columns_to_encode:\n",
    "    le = label_encoders[col]  \n",
    "    test_df[col] = test_df[col].map(lambda x: le.transform([x])[0] if x in le.classes_ else -1)\n",
    "\n",
    "\n",
    "X_test = test_df.drop(columns=['id'], errors='ignore')\n",
    "\n",
    "X_test[X_test.columns] = scaler.transform(X_test)\n",
    "\n",
    "# Make Predictions\n",
    "test_predictions = rf.predict_proba(X_test)[:, 1]  \n",
    "\n",
    "# Save Submission\n",
    "submission = pd.DataFrame({'ID': test_ids, 'PCOS': test_predictions.round(4)})  \n",
    "submission.to_csv(r\"D:\\PCOS\\submission.csv\", index=False)\n",
    "\n",
    "# Print confirmation\n",
    "print(r\"Output saved to 'D:\\PCOS\\submission.csv'\")"
   ]
  },
  {
   "cell_type": "code",
   "execution_count": null,
   "id": "829047b4-62e2-4da9-9f27-9e9ad9efac21",
   "metadata": {},
   "outputs": [],
   "source": [
    "# Load the trained model\n",
    "with open(\"pcos_model.pkl\", \"rb\") as file:\n",
    "    rf = pickle.load(file)\n",
    "\n",
    "# Define feature columns\n",
    "feature_columns = ['age', 'weight_kg', 'hormonal_imbalance', 'hyperandrogenism',\n",
    "                   'hirsutism', 'conception_difficulty', 'insulin_resistance',\n",
    "                   'exercise_frequency', 'exercise_type', 'exercise_duration',\n",
    "                   'sleep_hours', 'exercise_benefit']\n",
    "\n",
    "# Function to convert Yes/No input to 1/0\n",
    "def yes_no_input(prompt):\n",
    "    while True:\n",
    "        value = input(prompt + \" (Yes/No): \").strip().lower()\n",
    "        if value in ['yes', 'no']:\n",
    "            return 1 if value == 'yes' else 0\n",
    "        print(\"Invalid input. Please enter Yes or No.\")\n",
    "\n",
    "# Get user input\n",
    "print(\"Enter patient details to predict PCOS probability:\")\n",
    "inputs = []\n",
    "inputs.append(float(input(\"Age: \")))\n",
    "inputs.append(float(input(\"Weight (kg): \")))\n",
    "inputs.append(yes_no_input(\"Hormonal Imbalance\"))\n",
    "inputs.append(yes_no_input(\"Hyperandrogenism\"))\n",
    "inputs.append(yes_no_input(\"Hirsutism\"))\n",
    "inputs.append(yes_no_input(\"Conception Difficulty\"))\n",
    "inputs.append(yes_no_input(\"Insulin Resistance\"))\n",
    "inputs.append(int(input(\"Exercise Frequency (days/week): \")))\n",
    "inputs.append(int(input(\"Exercise Type (0-No Exercise, 1-Cardio, 2-Strength training, 3-Flexibility, 4-HIIT): \")))\n",
    "inputs.append(int(input(\"Exercise Duration (0-Not Applicable, 1-Less than 30 minutes, 2-30 minutes, 3-45 minutes, 4-More than 30 minutes, 5-20 minutes, 6-Less than 6 hours, 7-30 minutes to 1 hour): \")))\n",
    "inputs.append(int(input(\"Sleep Hours per Day (0-3-4 hours, 1-Less than 6 hours, 2-6-8 hours, 3-9-12 hours, 4-More than 12 hours): \")))  \n",
    "\n",
    "sample_input = pd.DataFrame([inputs], columns=feature_columns)\n",
    "\n",
    "# Make prediction\n",
    "prediction = rf.predict_proba(sample_input)[:, 1][0]\n",
    "\n",
    "# Show result\n",
    "print(f\"\\nPredicted PCOS Probability: {round(prediction, 4)}\")\n",
    "\n",
    "# Interpretation\n",
    "if prediction >= 0.5:\n",
    "    print(\"High risk of PCOS. Please consult a doctor.\")\n",
    "else:\n",
    "    print(\"Low risk of PCOS.\")\n"
   ]
  },
  {
   "cell_type": "code",
   "execution_count": null,
   "id": "9f1779c1-2894-4eb0-a563-39eb26fc5093",
   "metadata": {},
   "outputs": [],
   "source": []
  }
 ],
 "metadata": {
  "kernelspec": {
   "display_name": "Python 3 (ipykernel)",
   "language": "python",
   "name": "python3"
  },
  "language_info": {
   "codemirror_mode": {
    "name": "ipython",
    "version": 3
   },
   "file_extension": ".py",
   "mimetype": "text/x-python",
   "name": "python",
   "nbconvert_exporter": "python",
   "pygments_lexer": "ipython3",
   "version": "3.12.7"
  }
 },
 "nbformat": 4,
 "nbformat_minor": 5
}
